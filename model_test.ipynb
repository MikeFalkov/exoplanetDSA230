{
 "cells": [
  {
   "metadata": {
    "ExecuteTime": {
     "end_time": "2024-11-26T19:04:00.974049Z",
     "start_time": "2024-11-26T19:03:02.646288Z"
    }
   },
   "cell_type": "code",
   "source": [
    "import pandas as pd\n",
    "from sklearn.ensemble import RandomForestClassifier\n",
    "from sklearn.metrics import accuracy_score, classification_report, confusion_matrix\n",
    "from sklearn.preprocessing import StandardScaler\n",
    "from imblearn.over_sampling import SMOTE\n",
    "\n",
    "train_data = pd.read_csv('data/exoTrain.csv')\n",
    "test_data = pd.read_csv('data/exoTest.csv')\n",
    "\n",
    "# Separate features and labels\n",
    "X_train = train_data.iloc[:, 1:]  # Features\n",
    "y_train = train_data.iloc[:, 0]   # Labels\n",
    "X_test = test_data.iloc[:, 1:]    # Features\n",
    "y_test = test_data.iloc[:, 0]     # Labels\n",
    "\n",
    "# print(y_train.value_counts())\n",
    "# print(y_test.value_counts())\n",
    "\n",
    "# Scale\n",
    "scaler = StandardScaler()\n",
    "X_train_scaled = scaler.fit_transform(X_train)\n",
    "X_test_scaled = scaler.transform(X_test)\n",
    "\n",
    "# Balance (training data)\n",
    "smote = SMOTE(random_state=42)\n",
    "X_train_resampled, y_train_resampled = smote.fit_resample(X_train_scaled, y_train)\n",
    "\n",
    "print(\"-\"*50)\n",
    "print(\"class distributions (training)\")\n",
    "print(\"ORIGINAL class dist:\")\n",
    "print(y_train.value_counts())\n",
    "print(\"-\"*50)\n",
    "print(\"RESAMPLED class dist:\")\n",
    "print(pd.Series(y_train_resampled).value_counts())\n",
    "print(\"-\"*50)\n",
    "\n",
    "# Train\n",
    "model = RandomForestClassifier(random_state=42, class_weight='balanced')\n",
    "model.fit(X_train_resampled, y_train_resampled)\n",
    "\n",
    "# Predict\n",
    "y_pred = model.predict(X_test_scaled)\n",
    "\n",
    "# Evaluate\n",
    "print(\"-\"*50)\n",
    "print(\"Accuracy:\", accuracy_score(y_test, y_pred))\n",
    "print(\"-\"*50)\n",
    "print(\"\\nClassification Report:\\n\", classification_report(y_test, y_pred, zero_division=1))\n",
    "print(\"-\"*50)\n",
    "print(\"Confusion Matrix:\\n\", confusion_matrix(y_test, y_pred))\n",
    "print(\"-\"*50)"
   ],
   "id": "725de6e23694df47",
   "outputs": [
    {
     "name": "stdout",
     "output_type": "stream",
     "text": [
      "--------------------------------------------------\n",
      "class distributions (training)\n",
      "ORIGINAL class dist:\n",
      "LABEL\n",
      "1    5050\n",
      "2      37\n",
      "Name: count, dtype: int64\n",
      "--------------------------------------------------\n",
      "RESAMPLED class dist:\n",
      "LABEL\n",
      "2    5050\n",
      "1    5050\n",
      "Name: count, dtype: int64\n",
      "--------------------------------------------------\n",
      "--------------------------------------------------\n",
      "Accuracy: 0.9912280701754386\n",
      "--------------------------------------------------\n",
      "\n",
      "Classification Report:\n",
      "               precision    recall  f1-score   support\n",
      "\n",
      "           1       0.99      1.00      1.00       565\n",
      "           2       1.00      0.00      0.00         5\n",
      "\n",
      "    accuracy                           0.99       570\n",
      "   macro avg       1.00      0.50      0.50       570\n",
      "weighted avg       0.99      0.99      0.99       570\n",
      "\n",
      "--------------------------------------------------\n",
      "Confusion Matrix:\n",
      " [[565   0]\n",
      " [  5   0]]\n",
      "--------------------------------------------------\n"
     ]
    }
   ],
   "execution_count": 1
  },
  {
   "metadata": {
    "ExecuteTime": {
     "end_time": "2024-12-01T05:43:57.874497Z",
     "start_time": "2024-12-01T05:32:04.053347Z"
    }
   },
   "cell_type": "code",
   "source": [
    "from sktime.classification.interval_based import TimeSeriesForestClassifier\n",
    "from sktime.datatypes._panel._convert import from_2d_array_to_nested\n",
    "from sklearn.metrics import accuracy_score\n",
    "import pandas as pd\n",
    "\n",
    "# Load data\n",
    "train_data = pd.read_csv('data/exoTrain.csv')\n",
    "test_data = pd.read_csv('data/exoTest.csv')\n",
    "\n",
    "# Extract features and labels\n",
    "x_train = train_data.iloc[:, 1:]\n",
    "y_train = train_data.iloc[:, 0]\n",
    "x_test = test_data.iloc[:, 1:]\n",
    "y_test = test_data.iloc[:, 0]\n",
    "\n",
    "# Convert feature data to nested format\n",
    "x_train_nested = from_2d_array_to_nested(x_train)\n",
    "x_test_nested = from_2d_array_to_nested(x_test)\n",
    "\n",
    "# Train classifier\n",
    "clf = TimeSeriesForestClassifier(random_state=42)\n",
    "clf.fit(x_train_nested, y_train)\n",
    "\n",
    "# Predict and calculate accuracy\n",
    "y_pred = clf.predict(x_test_nested)\n",
    "accuracy = accuracy_score(y_test, y_pred)\n",
    "\n",
    "print(f\"Accuracy: {accuracy}\")\n"
   ],
   "id": "ce19965b2b8b3cc7",
   "outputs": [
    {
     "name": "stdout",
     "output_type": "stream",
     "text": [
      "Accuracy: 0.9912280701754386\n"
     ]
    }
   ],
   "execution_count": 7
  },
  {
   "metadata": {
    "ExecuteTime": {
     "end_time": "2024-12-01T05:56:17.781882Z",
     "start_time": "2024-12-01T05:56:17.769097Z"
    }
   },
   "cell_type": "code",
   "source": [
    "from sklearn.metrics import accuracy_score, classification_report, confusion_matrix\n",
    "\n",
    "\n",
    "print(\"\\nClassification Report:\\n\", classification_report(y_test, y_pred, zero_division=1))\n",
    "\n",
    "print(\"Confusion Matrix:\\n\", confusion_matrix(y_test, y_pred))"
   ],
   "id": "9cf63b89098df9c4",
   "outputs": [
    {
     "name": "stdout",
     "output_type": "stream",
     "text": [
      "\n",
      "Classification Report:\n",
      "               precision    recall  f1-score   support\n",
      "\n",
      "           1       0.99      1.00      1.00       565\n",
      "           2       1.00      0.00      0.00         5\n",
      "\n",
      "    accuracy                           0.99       570\n",
      "   macro avg       1.00      0.50      0.50       570\n",
      "weighted avg       0.99      0.99      0.99       570\n",
      "\n",
      "Confusion Matrix:\n",
      " [[565   0]\n",
      " [  5   0]]\n"
     ]
    }
   ],
   "execution_count": 14
  },
  {
   "metadata": {
    "ExecuteTime": {
     "end_time": "2024-12-01T05:57:59.462513Z",
     "start_time": "2024-12-01T05:57:59.459171Z"
    }
   },
   "cell_type": "code",
   "source": [
    "from sklearn.metrics import confusion_matrix, ConfusionMatrixDisplay\n",
    "import matplotlib.pyplot as plt"
   ],
   "id": "3855d9c7b1bc7400",
   "outputs": [],
   "execution_count": 15
  }
 ],
 "metadata": {
  "kernelspec": {
   "display_name": "Python 3",
   "language": "python",
   "name": "python3"
  },
  "language_info": {
   "codemirror_mode": {
    "name": "ipython",
    "version": 2
   },
   "file_extension": ".py",
   "mimetype": "text/x-python",
   "name": "python",
   "nbconvert_exporter": "python",
   "pygments_lexer": "ipython2",
   "version": "2.7.6"
  }
 },
 "nbformat": 4,
 "nbformat_minor": 5
}
