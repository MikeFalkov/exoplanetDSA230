{
 "cells": [
  {
   "cell_type": "code",
   "id": "initial_id",
   "metadata": {
    "collapsed": true
   },
   "source": [
    "import pandas as pd\n",
    "import numpy as np\n",
    "from sklearn.model_selection import train_test_split\n",
    "from sklearn.preprocessing import StandardScaler\n",
    "from sklearn.ensemble import RandomForestClassifier\n",
    "from sklearn.metrics import classification_report, accuracy_score, confusion_matrix\n",
    "import matplotlib.pyplot as plt"
   ],
   "outputs": [],
   "execution_count": null
  },
  {
   "metadata": {},
   "cell_type": "code",
   "source": [
    "train_df = pd.read_csv('data/exoTrain.csv')\n",
    "X = train_df.iloc[:, 1:]  # All columns except 'LABEL'\n",
    "y = train_df['LABEL']     # The 'LABEL' column"
   ],
   "id": "e0f715e513fd60f1",
   "outputs": [],
   "execution_count": null
  },
  {
   "metadata": {},
   "cell_type": "code",
   "source": [
    "scaler = StandardScaler()\n",
    "X_scaled = scaler.fit_transform(X)"
   ],
   "id": "32706737ad27b86d",
   "outputs": [],
   "execution_count": null
  },
  {
   "metadata": {},
   "cell_type": "code",
   "source": "X_train, X_val, y_train, y_val = train_test_split(X_scaled, y, test_size=0.2, random_state=42)",
   "id": "80f28109bdc704f",
   "outputs": [],
   "execution_count": null
  },
  {
   "metadata": {},
   "cell_type": "code",
   "source": "model = RandomForestClassifier(n_estimators=100, random_state=42)",
   "id": "9d2a6796c5cbb14a",
   "outputs": [],
   "execution_count": null
  },
  {
   "metadata": {},
   "cell_type": "code",
   "source": "model.fit(X_train, y_train)",
   "id": "1e04e970cef36260",
   "outputs": [],
   "execution_count": null
  },
  {
   "metadata": {},
   "cell_type": "code",
   "source": "y_pred = model.predict(X_val)",
   "id": "cd56c6db1be7975b",
   "outputs": [],
   "execution_count": null
  },
  {
   "metadata": {},
   "cell_type": "code",
   "source": [
    "print(\"Accuracy:\", accuracy_score(y_val, y_pred))\n",
    "# print(\"\\nClass Report:\\n\", classification_report(y_val, y_pred))"
   ],
   "id": "fd13cb00d2b9adca",
   "outputs": [],
   "execution_count": null
  },
  {
   "metadata": {},
   "cell_type": "code",
   "source": [
    "conf_matrix = confusion_matrix(y_val, y_pred)\n",
    "print(\"\\nConfusion Matrix:\\n\", conf_matrix)"
   ],
   "id": "e4e4a0a21f2c7887",
   "outputs": [],
   "execution_count": null
  },
  {
   "metadata": {},
   "cell_type": "code",
   "source": [
    "importances = model.feature_importances_\n",
    "plt.figure(figsize=(12, 6))\n",
    "plt.plot(importances)\n",
    "plt.xlabel(\"Time Step (Flux Measurements)\")\n",
    "plt.ylabel(\"Feature Importance\")\n",
    "plt.title(\"Feature Importance of Flux Measurements\")\n",
    "plt.show()"
   ],
   "id": "9594824f381a1016",
   "outputs": [],
   "execution_count": null
  },
  {
   "metadata": {},
   "cell_type": "code",
   "source": [
    "import seaborn as sns\n",
    "\n",
    "# Plot confusion matrix as heatmap\n",
    "plt.figure(figsize=(8, 6))\n",
    "sns.heatmap(conf_matrix, annot=True, fmt='d', cmap='Blues', xticklabels=['No Exoplanet', 'Exoplanet'], yticklabels=['No Exoplanet', 'Exoplanet'])\n",
    "plt.xlabel('Predicted Labels')\n",
    "plt.ylabel('True Labels')\n",
    "plt.title('Confusion Matrix Heatmap')\n",
    "plt.show()\n"
   ],
   "id": "d1d2e45aac005c85",
   "outputs": [],
   "execution_count": null
  },
  {
   "metadata": {},
   "cell_type": "code",
   "source": [
    "import pandas as pd\n",
    "import numpy as np\n",
    "from sklearn.model_selection import train_test_split\n",
    "from sklearn.ensemble import RandomForestClassifier\n",
    "from sklearn.preprocessing import StandardScaler\n",
    "from sklearn.metrics import accuracy_score, classification_report, confusion_matrix\n",
    "\n",
    "# Load datasets\n",
    "train_data = pd.read_csv('data/exoTrain.csv')\n",
    "test_data = pd.read_csv('data/exoTest.csv')\n",
    "\n",
    "# Preprocess data\n",
    "X_train = train_data.iloc[:, 1:]  # Features\n",
    "y_train = train_data.iloc[:, 0]   # Labels\n",
    "\n",
    "X_test = test_data.iloc[:, 1:]    # Features\n",
    "y_test = test_data.iloc[:, 0]     # Labels\n",
    "\n",
    "# Scale the data\n",
    "scaler = StandardScaler()\n",
    "X_train_scaled = scaler.fit_transform(X_train)\n",
    "X_test_scaled = scaler.transform(X_test)\n",
    "\n",
    "# Train-test split (optional if additional splitting is needed)\n",
    "X_train_split, X_val, y_train_split, y_val = train_test_split(\n",
    "    X_train_scaled, y_train, test_size=0.2, random_state=42\n",
    ")\n",
    "\n",
    "# Train the model\n",
    "model = RandomForestClassifier(random_state=42)\n",
    "model.fit(X_train_split, y_train_split)\n",
    "\n",
    "# Evaluate the model\n",
    "y_pred = model.predict(X_test_scaled)\n",
    "\n",
    "# Metrics\n",
    "print(\"Accuracy:\", accuracy_score(y_test, y_pred))\n",
    "print(\"\\nClassification Report:\\n\", classification_report(y_test, y_pred))\n",
    "print(\"\\nConfusion Matrix:\\n\", confusion_matrix(y_test, y_pred))\n"
   ],
   "id": "883c2b4ab824d40b",
   "outputs": [],
   "execution_count": null
  },
  {
   "metadata": {},
   "cell_type": "code",
   "source": [
    "print(y_train.value_counts())\n",
    "print(y_test.value_counts())\n"
   ],
   "id": "155751446f6bc286",
   "outputs": [],
   "execution_count": null
  },
  {
   "metadata": {
    "ExecuteTime": {
     "end_time": "2024-11-26T18:45:40.073639Z",
     "start_time": "2024-11-26T18:44:48.419499Z"
    }
   },
   "cell_type": "code",
   "source": [
    "import pandas as pd\n",
    "from sklearn.ensemble import RandomForestClassifier\n",
    "from sklearn.metrics import classification_report, confusion_matrix\n",
    "from sklearn.preprocessing import StandardScaler\n",
    "from imblearn.over_sampling import SMOTE\n",
    "\n",
    "# Load datasets\n",
    "train_data = pd.read_csv('data/exoTrain.csv')\n",
    "test_data = pd.read_csv('data/exoTest.csv')\n",
    "\n",
    "# Separate features and labels\n",
    "X_train = train_data.iloc[:, 1:]  # Features\n",
    "y_train = train_data.iloc[:, 0]   # Labels\n",
    "X_test = test_data.iloc[:, 1:]    # Features\n",
    "y_test = test_data.iloc[:, 0]     # Labels\n",
    "\n",
    "# Scale the data\n",
    "scaler = StandardScaler()\n",
    "X_train_scaled = scaler.fit_transform(X_train)\n",
    "X_test_scaled = scaler.transform(X_test)\n",
    "\n",
    "# Apply SMOTE to balance the training data\n",
    "smote = SMOTE(random_state=42)\n",
    "X_train_resampled, y_train_resampled = smote.fit_resample(X_train_scaled, y_train)\n",
    "\n",
    "print(\"-\"*50)\n",
    "print(\"class distributions (training)\")\n",
    "print(\"ORIGINAL class dist:\")\n",
    "print(y_train.value_counts())\n",
    "print(\"-\"*50)\n",
    "print(\"RESAMPLED class dist:\")\n",
    "print(pd.Series(y_train_resampled).value_counts())\n",
    "print(\"-\"*50)\n",
    "\n",
    "# Train the model with class weight\n",
    "model = RandomForestClassifier(random_state=42, class_weight='balanced')\n",
    "model.fit(X_train_resampled, y_train_resampled)\n",
    "\n",
    "# Make predictions\n",
    "y_pred = model.predict(X_test_scaled)\n",
    "\n",
    "# Evaluate the model\n",
    "print(\"-\"*50)\n",
    "print(\"Accuracy:\", accuracy_score(y_test, y_pred))\n",
    "print(\"-\"*50)\n",
    "print(\"\\nClassification Report:\\n\", classification_report(y_test, y_pred, zero_division=1))\n",
    "print(\"-\"*50)\n",
    "print(\"Confusion Matrix:\\n\", confusion_matrix(y_test, y_pred))\n",
    "print(\"-\"*50)"
   ],
   "id": "725de6e23694df47",
   "outputs": [
    {
     "name": "stdout",
     "output_type": "stream",
     "text": [
      "--------------------------------------------------\n",
      "class distributions (training)\n",
      "ORIGINAL class dist:\n",
      "LABEL\n",
      "1    5050\n",
      "2      37\n",
      "Name: count, dtype: int64\n",
      "--------------------------------------------------\n",
      "RESAMPLED class dist:\n",
      "LABEL\n",
      "2    5050\n",
      "1    5050\n",
      "Name: count, dtype: int64\n",
      "--------------------------------------------------\n",
      "--------------------------------------------------\n",
      "Accuracy: 0.9912280701754386\n",
      "--------------------------------------------------\n",
      "\n",
      "Classification Report:\n",
      "               precision    recall  f1-score   support\n",
      "\n",
      "           1       0.99      1.00      1.00       565\n",
      "           2       1.00      0.00      0.00         5\n",
      "\n",
      "    accuracy                           0.99       570\n",
      "   macro avg       1.00      0.50      0.50       570\n",
      "weighted avg       0.99      0.99      0.99       570\n",
      "\n",
      "--------------------------------------------------\n",
      "Confusion Matrix:\n",
      " [[565   0]\n",
      " [  5   0]]\n",
      "--------------------------------------------------\n"
     ]
    }
   ],
   "execution_count": 17
  }
 ],
 "metadata": {
  "kernelspec": {
   "display_name": "Python 3",
   "language": "python",
   "name": "python3"
  },
  "language_info": {
   "codemirror_mode": {
    "name": "ipython",
    "version": 2
   },
   "file_extension": ".py",
   "mimetype": "text/x-python",
   "name": "python",
   "nbconvert_exporter": "python",
   "pygments_lexer": "ipython2",
   "version": "2.7.6"
  }
 },
 "nbformat": 4,
 "nbformat_minor": 5
}
