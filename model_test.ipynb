{
 "cells": [
  {
   "metadata": {
    "ExecuteTime": {
     "end_time": "2024-11-26T19:04:00.974049Z",
     "start_time": "2024-11-26T19:03:02.646288Z"
    }
   },
   "cell_type": "code",
   "source": [
    "import pandas as pd\n",
    "from sklearn.ensemble import RandomForestClassifier\n",
    "from sklearn.metrics import accuracy_score, classification_report, confusion_matrix\n",
    "from sklearn.preprocessing import StandardScaler\n",
    "from imblearn.over_sampling import SMOTE\n",
    "\n",
    "train_data = pd.read_csv('data/exoTrain.csv')\n",
    "test_data = pd.read_csv('data/exoTest.csv')\n",
    "\n",
    "# Separate features and labels\n",
    "X_train = train_data.iloc[:, 1:]  # Features\n",
    "y_train = train_data.iloc[:, 0]   # Labels\n",
    "X_test = test_data.iloc[:, 1:]    # Features\n",
    "y_test = test_data.iloc[:, 0]     # Labels\n",
    "\n",
    "# print(y_train.value_counts())\n",
    "# print(y_test.value_counts())\n",
    "\n",
    "# Scale\n",
    "scaler = StandardScaler()\n",
    "X_train_scaled = scaler.fit_transform(X_train)\n",
    "X_test_scaled = scaler.transform(X_test)\n",
    "\n",
    "# Balance (training data)\n",
    "smote = SMOTE(random_state=42)\n",
    "X_train_resampled, y_train_resampled = smote.fit_resample(X_train_scaled, y_train)\n",
    "\n",
    "print(\"-\"*50)\n",
    "print(\"class distributions (training)\")\n",
    "print(\"ORIGINAL class dist:\")\n",
    "print(y_train.value_counts())\n",
    "print(\"-\"*50)\n",
    "print(\"RESAMPLED class dist:\")\n",
    "print(pd.Series(y_train_resampled).value_counts())\n",
    "print(\"-\"*50)\n",
    "\n",
    "# Train\n",
    "model = RandomForestClassifier(random_state=42, class_weight='balanced')\n",
    "model.fit(X_train_resampled, y_train_resampled)\n",
    "\n",
    "# Predict\n",
    "y_pred = model.predict(X_test_scaled)\n",
    "\n",
    "# Evaluate\n",
    "print(\"-\"*50)\n",
    "print(\"Accuracy:\", accuracy_score(y_test, y_pred))\n",
    "print(\"-\"*50)\n",
    "print(\"\\nClassification Report:\\n\", classification_report(y_test, y_pred, zero_division=1))\n",
    "print(\"-\"*50)\n",
    "print(\"Confusion Matrix:\\n\", confusion_matrix(y_test, y_pred))\n",
    "print(\"-\"*50)"
   ],
   "id": "725de6e23694df47",
   "outputs": [
    {
     "name": "stdout",
     "output_type": "stream",
     "text": [
      "--------------------------------------------------\n",
      "class distributions (training)\n",
      "ORIGINAL class dist:\n",
      "LABEL\n",
      "1    5050\n",
      "2      37\n",
      "Name: count, dtype: int64\n",
      "--------------------------------------------------\n",
      "RESAMPLED class dist:\n",
      "LABEL\n",
      "2    5050\n",
      "1    5050\n",
      "Name: count, dtype: int64\n",
      "--------------------------------------------------\n",
      "--------------------------------------------------\n",
      "Accuracy: 0.9912280701754386\n",
      "--------------------------------------------------\n",
      "\n",
      "Classification Report:\n",
      "               precision    recall  f1-score   support\n",
      "\n",
      "           1       0.99      1.00      1.00       565\n",
      "           2       1.00      0.00      0.00         5\n",
      "\n",
      "    accuracy                           0.99       570\n",
      "   macro avg       1.00      0.50      0.50       570\n",
      "weighted avg       0.99      0.99      0.99       570\n",
      "\n",
      "--------------------------------------------------\n",
      "Confusion Matrix:\n",
      " [[565   0]\n",
      " [  5   0]]\n",
      "--------------------------------------------------\n"
     ]
    }
   ],
   "execution_count": 1
  },
  {
   "metadata": {
    "ExecuteTime": {
     "end_time": "2024-12-01T05:43:57.874497Z",
     "start_time": "2024-12-01T05:32:04.053347Z"
    }
   },
   "cell_type": "code",
   "source": [
    "from sktime.classification.interval_based import TimeSeriesForestClassifier\n",
    "from sktime.datatypes._panel._convert import from_2d_array_to_nested\n",
    "from sklearn.metrics import accuracy_score\n",
    "import pandas as pd\n",
    "\n",
    "# Load data\n",
    "train_data = pd.read_csv('data/exoTrain.csv')\n",
    "test_data = pd.read_csv('data/exoTest.csv')\n",
    "\n",
    "# Extract features and labels\n",
    "x_train = train_data.iloc[:, 1:]\n",
    "y_train = train_data.iloc[:, 0]\n",
    "x_test = test_data.iloc[:, 1:]\n",
    "y_test = test_data.iloc[:, 0]\n",
    "\n",
    "# Convert feature data to nested format\n",
    "x_train_nested = from_2d_array_to_nested(x_train)\n",
    "x_test_nested = from_2d_array_to_nested(x_test)\n",
    "\n",
    "# Train classifier\n",
    "clf = TimeSeriesForestClassifier(random_state=42)\n",
    "clf.fit(x_train_nested, y_train)\n",
    "\n",
    "# Predict and calculate accuracy\n",
    "y_pred = clf.predict(x_test_nested)\n",
    "accuracy = accuracy_score(y_test, y_pred)\n",
    "\n",
    "print(f\"Accuracy: {accuracy}\")\n"
   ],
   "id": "ce19965b2b8b3cc7",
   "outputs": [
    {
     "name": "stdout",
     "output_type": "stream",
     "text": [
      "Accuracy: 0.9912280701754386\n"
     ]
    }
   ],
   "execution_count": 7
  },
  {
   "metadata": {
    "ExecuteTime": {
     "end_time": "2024-12-01T05:56:17.781882Z",
     "start_time": "2024-12-01T05:56:17.769097Z"
    }
   },
   "cell_type": "code",
   "source": [
    "from sklearn.metrics import accuracy_score, classification_report, confusion_matrix\n",
    "\n",
    "\n",
    "print(\"\\nClassification Report:\\n\", classification_report(y_test, y_pred, zero_division=1))\n",
    "\n",
    "print(\"Confusion Matrix:\\n\", confusion_matrix(y_test, y_pred))"
   ],
   "id": "9cf63b89098df9c4",
   "outputs": [
    {
     "name": "stdout",
     "output_type": "stream",
     "text": [
      "\n",
      "Classification Report:\n",
      "               precision    recall  f1-score   support\n",
      "\n",
      "           1       0.99      1.00      1.00       565\n",
      "           2       1.00      0.00      0.00         5\n",
      "\n",
      "    accuracy                           0.99       570\n",
      "   macro avg       1.00      0.50      0.50       570\n",
      "weighted avg       0.99      0.99      0.99       570\n",
      "\n",
      "Confusion Matrix:\n",
      " [[565   0]\n",
      " [  5   0]]\n"
     ]
    }
   ],
   "execution_count": 14
  },
  {
   "metadata": {
    "ExecuteTime": {
     "end_time": "2024-12-01T05:57:59.462513Z",
     "start_time": "2024-12-01T05:57:59.459171Z"
    }
   },
   "cell_type": "code",
   "source": [
    "from sklearn.metrics import confusion_matrix, ConfusionMatrixDisplay\n",
    "import matplotlib.pyplot as plt"
   ],
   "id": "3855d9c7b1bc7400",
   "outputs": [],
   "execution_count": 15
  },
  {
   "metadata": {
    "ExecuteTime": {
     "end_time": "2024-12-01T07:13:50.029305Z",
     "start_time": "2024-12-01T07:13:49.635096Z"
    }
   },
   "cell_type": "code",
   "source": [
    "data1 = pd.read_csv(\"data/exoTest.csv\")\n",
    "# data1[\"LABEL\"]\n",
    "data1.head(4)"
   ],
   "id": "542c82c7abac173b",
   "outputs": [
    {
     "data": {
      "text/plain": [
       "   LABEL   FLUX.1   FLUX.2   FLUX.3   FLUX.4   FLUX.5   FLUX.6   FLUX.7  \\\n",
       "0      2   119.88   100.21    86.46    48.68    46.12    39.39    18.57   \n",
       "1      2  5736.59  5699.98  5717.16  5692.73  5663.83  5631.16  5626.39   \n",
       "2      2   844.48   817.49   770.07   675.01   605.52   499.45   440.77   \n",
       "3      2  -826.00  -827.31  -846.12  -836.03  -745.50  -784.69  -791.22   \n",
       "\n",
       "    FLUX.8   FLUX.9  ...  FLUX.3188  FLUX.3189  FLUX.3190  FLUX.3191  \\\n",
       "0     6.98     6.63  ...      14.52      19.29      14.44      -1.62   \n",
       "1  5569.47  5550.44  ...    -581.91    -984.09   -1230.89   -1600.45   \n",
       "2   362.95   207.27  ...      17.82     -51.66     -48.29     -59.99   \n",
       "3  -746.50  -709.53  ...     122.34      93.03      93.03      68.81   \n",
       "\n",
       "   FLUX.3192  FLUX.3193  FLUX.3194  FLUX.3195  FLUX.3196  FLUX.3197  \n",
       "0      13.33      45.50      31.93      35.78     269.43      57.72  \n",
       "1   -1824.53   -2061.17   -2265.98   -2366.19   -2294.86   -2034.72  \n",
       "2     -82.10    -174.54     -95.23    -162.68     -36.79      30.63  \n",
       "3       9.81      20.75      20.25    -120.81    -257.56    -215.41  \n",
       "\n",
       "[4 rows x 3198 columns]"
      ],
      "text/html": [
       "<div>\n",
       "<style scoped>\n",
       "    .dataframe tbody tr th:only-of-type {\n",
       "        vertical-align: middle;\n",
       "    }\n",
       "\n",
       "    .dataframe tbody tr th {\n",
       "        vertical-align: top;\n",
       "    }\n",
       "\n",
       "    .dataframe thead th {\n",
       "        text-align: right;\n",
       "    }\n",
       "</style>\n",
       "<table border=\"1\" class=\"dataframe\">\n",
       "  <thead>\n",
       "    <tr style=\"text-align: right;\">\n",
       "      <th></th>\n",
       "      <th>LABEL</th>\n",
       "      <th>FLUX.1</th>\n",
       "      <th>FLUX.2</th>\n",
       "      <th>FLUX.3</th>\n",
       "      <th>FLUX.4</th>\n",
       "      <th>FLUX.5</th>\n",
       "      <th>FLUX.6</th>\n",
       "      <th>FLUX.7</th>\n",
       "      <th>FLUX.8</th>\n",
       "      <th>FLUX.9</th>\n",
       "      <th>...</th>\n",
       "      <th>FLUX.3188</th>\n",
       "      <th>FLUX.3189</th>\n",
       "      <th>FLUX.3190</th>\n",
       "      <th>FLUX.3191</th>\n",
       "      <th>FLUX.3192</th>\n",
       "      <th>FLUX.3193</th>\n",
       "      <th>FLUX.3194</th>\n",
       "      <th>FLUX.3195</th>\n",
       "      <th>FLUX.3196</th>\n",
       "      <th>FLUX.3197</th>\n",
       "    </tr>\n",
       "  </thead>\n",
       "  <tbody>\n",
       "    <tr>\n",
       "      <th>0</th>\n",
       "      <td>2</td>\n",
       "      <td>119.88</td>\n",
       "      <td>100.21</td>\n",
       "      <td>86.46</td>\n",
       "      <td>48.68</td>\n",
       "      <td>46.12</td>\n",
       "      <td>39.39</td>\n",
       "      <td>18.57</td>\n",
       "      <td>6.98</td>\n",
       "      <td>6.63</td>\n",
       "      <td>...</td>\n",
       "      <td>14.52</td>\n",
       "      <td>19.29</td>\n",
       "      <td>14.44</td>\n",
       "      <td>-1.62</td>\n",
       "      <td>13.33</td>\n",
       "      <td>45.50</td>\n",
       "      <td>31.93</td>\n",
       "      <td>35.78</td>\n",
       "      <td>269.43</td>\n",
       "      <td>57.72</td>\n",
       "    </tr>\n",
       "    <tr>\n",
       "      <th>1</th>\n",
       "      <td>2</td>\n",
       "      <td>5736.59</td>\n",
       "      <td>5699.98</td>\n",
       "      <td>5717.16</td>\n",
       "      <td>5692.73</td>\n",
       "      <td>5663.83</td>\n",
       "      <td>5631.16</td>\n",
       "      <td>5626.39</td>\n",
       "      <td>5569.47</td>\n",
       "      <td>5550.44</td>\n",
       "      <td>...</td>\n",
       "      <td>-581.91</td>\n",
       "      <td>-984.09</td>\n",
       "      <td>-1230.89</td>\n",
       "      <td>-1600.45</td>\n",
       "      <td>-1824.53</td>\n",
       "      <td>-2061.17</td>\n",
       "      <td>-2265.98</td>\n",
       "      <td>-2366.19</td>\n",
       "      <td>-2294.86</td>\n",
       "      <td>-2034.72</td>\n",
       "    </tr>\n",
       "    <tr>\n",
       "      <th>2</th>\n",
       "      <td>2</td>\n",
       "      <td>844.48</td>\n",
       "      <td>817.49</td>\n",
       "      <td>770.07</td>\n",
       "      <td>675.01</td>\n",
       "      <td>605.52</td>\n",
       "      <td>499.45</td>\n",
       "      <td>440.77</td>\n",
       "      <td>362.95</td>\n",
       "      <td>207.27</td>\n",
       "      <td>...</td>\n",
       "      <td>17.82</td>\n",
       "      <td>-51.66</td>\n",
       "      <td>-48.29</td>\n",
       "      <td>-59.99</td>\n",
       "      <td>-82.10</td>\n",
       "      <td>-174.54</td>\n",
       "      <td>-95.23</td>\n",
       "      <td>-162.68</td>\n",
       "      <td>-36.79</td>\n",
       "      <td>30.63</td>\n",
       "    </tr>\n",
       "    <tr>\n",
       "      <th>3</th>\n",
       "      <td>2</td>\n",
       "      <td>-826.00</td>\n",
       "      <td>-827.31</td>\n",
       "      <td>-846.12</td>\n",
       "      <td>-836.03</td>\n",
       "      <td>-745.50</td>\n",
       "      <td>-784.69</td>\n",
       "      <td>-791.22</td>\n",
       "      <td>-746.50</td>\n",
       "      <td>-709.53</td>\n",
       "      <td>...</td>\n",
       "      <td>122.34</td>\n",
       "      <td>93.03</td>\n",
       "      <td>93.03</td>\n",
       "      <td>68.81</td>\n",
       "      <td>9.81</td>\n",
       "      <td>20.75</td>\n",
       "      <td>20.25</td>\n",
       "      <td>-120.81</td>\n",
       "      <td>-257.56</td>\n",
       "      <td>-215.41</td>\n",
       "    </tr>\n",
       "  </tbody>\n",
       "</table>\n",
       "<p>4 rows × 3198 columns</p>\n",
       "</div>"
      ]
     },
     "execution_count": 22,
     "metadata": {},
     "output_type": "execute_result"
    }
   ],
   "execution_count": 22
  },
  {
   "metadata": {
    "ExecuteTime": {
     "end_time": "2024-12-01T07:04:52.263013Z",
     "start_time": "2024-12-01T07:04:49.314305Z"
    }
   },
   "cell_type": "code",
   "source": [
    "import pandas as pd\n",
    "\n",
    "data1 = pd.read_csv(\"data/exoTrain.csv\")\n",
    "data1[\"LABEL\"] = data1[\"LABEL\"].replace(1,0)\n",
    "data1[\"LABEL\"] = data1[\"LABEL\"].replace(2,1)\n",
    "data1.head()\n",
    "\n",
    "data1[\"LABEL\"]"
   ],
   "id": "e6aa01314496a521",
   "outputs": [
    {
     "data": {
      "text/plain": [
       "0       1\n",
       "1       1\n",
       "2       1\n",
       "3       1\n",
       "4       1\n",
       "       ..\n",
       "5082    0\n",
       "5083    0\n",
       "5084    0\n",
       "5085    0\n",
       "5086    0\n",
       "Name: LABEL, Length: 5087, dtype: int64"
      ]
     },
     "execution_count": 18,
     "metadata": {},
     "output_type": "execute_result"
    }
   ],
   "execution_count": 18
  }
 ],
 "metadata": {
  "kernelspec": {
   "display_name": "Python 3",
   "language": "python",
   "name": "python3"
  },
  "language_info": {
   "codemirror_mode": {
    "name": "ipython",
    "version": 2
   },
   "file_extension": ".py",
   "mimetype": "text/x-python",
   "name": "python",
   "nbconvert_exporter": "python",
   "pygments_lexer": "ipython2",
   "version": "2.7.6"
  }
 },
 "nbformat": 4,
 "nbformat_minor": 5
}
